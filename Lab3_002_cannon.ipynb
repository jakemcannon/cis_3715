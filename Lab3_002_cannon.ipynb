{
 "cells": [
  {
   "cell_type": "markdown",
   "metadata": {},
   "source": [
    "# Lab 3: Data Preprocessing"
   ]
  },
  {
   "cell_type": "markdown",
   "metadata": {},
   "source": [
    "In this assignment, we will learn how to explore the raw data and preprocess it. \n",
    "\n",
    "The dataset we are going to exlore is an insurance data. It provides different features of each user as follows:\n",
    "* age: age of the user\n",
    "* sex: gender of the user\n",
    "* bmi: body mass index, providing an understanding of body\n",
    "* children: number of children covered by health insurance / number of dependents\n",
    "* smoker: smoker or not\n",
    "* region: the user's residential area in the US, northeast, southeast, southwest, northwest.\n",
    "\n",
    "Additionally, the medical cost of each user is also provided: \n",
    "* charges: the medical cost \n",
    "\n",
    "Please follow Lecture 5_data_understanding and Lecture 6_data_preprocessing to complete following questions. "
   ]
  },
  {
   "cell_type": "markdown",
   "metadata": {},
   "source": [
    "### Q1. Load data with Pandas and output the basic information of this dataset, such as the features and their data types.  Which features are numerical features and which users are categorical features?\n"
   ]
  },
  {
   "cell_type": "code",
   "execution_count": 3,
   "metadata": {},
   "outputs": [
    {
     "name": "stdout",
     "output_type": "stream",
     "text": [
      "<class 'pandas.core.frame.DataFrame'>\n",
      "RangeIndex: 1338 entries, 0 to 1337\n",
      "Data columns (total 7 columns):\n",
      " #   Column    Non-Null Count  Dtype  \n",
      "---  ------    --------------  -----  \n",
      " 0   age       1338 non-null   int64  \n",
      " 1   sex       1338 non-null   object \n",
      " 2   bmi       1338 non-null   float64\n",
      " 3   children  1338 non-null   int64  \n",
      " 4   smoker    1338 non-null   object \n",
      " 5   region    1338 non-null   object \n",
      " 6   charges   1338 non-null   float64\n",
      "dtypes: float64(2), int64(2), object(3)\n",
      "memory usage: 73.3+ KB\n",
      "Numerical featuers: age, bmi, children, charges\n",
      "Categorical featuers: sex, smoker, region\n"
     ]
    }
   ],
   "source": [
    "import pandas as pd\n",
    "import matplotlib.pyplot as plt\n",
    "from sklearn.preprocessing import LabelEncoder\n",
    "\n",
    "df = pd.read_csv('insurance.csv')\n",
    "df.info()\n",
    "print(\"Numerical featuers: age, bmi, children, charges\")\n",
    "print(\"Categorical featuers: sex, smoker, region\")"
   ]
  },
  {
   "cell_type": "markdown",
   "metadata": {},
   "source": [
    "### Q2. Check whether there are missing values in this dataset."
   ]
  },
  {
   "cell_type": "code",
   "execution_count": 5,
   "metadata": {},
   "outputs": [
    {
     "data": {
      "text/plain": [
       "age         0\n",
       "sex         0\n",
       "bmi         0\n",
       "children    0\n",
       "smoker      0\n",
       "region      0\n",
       "charges     0\n",
       "dtype: int64"
      ]
     },
     "execution_count": 5,
     "metadata": {},
     "output_type": "execute_result"
    }
   ],
   "source": [
    "df.isnull().sum()"
   ]
  },
  {
   "cell_type": "markdown",
   "metadata": {},
   "source": [
    "### Q3. Visualize all numerical features with histogram plot to see the distribution of each numerical feature. \n"
   ]
  },
  {
   "cell_type": "code",
   "execution_count": 6,
   "metadata": {},
   "outputs": [
    {
     "data": {
      "image/png": "[encoded data removed]",
      "text/plain": [
       "<Figure size 720x720 with 4 Axes>"
      ]
     },
     "metadata": {
      "needs_background": "light"
     },
     "output_type": "display_data"
    }
   ],
   "source": [
    "df.hist(bins=50, figsize=(10,10))\n",
    "plt.show()"
   ]
  },
  {
   "cell_type": "markdown",
   "metadata": {},
   "source": [
    "### Q4. Use corr() function of Pandas to show the correlation between different numerical features"
   ]
  },
  {
   "cell_type": "code",
   "execution_count": 4,
   "metadata": {},
   "outputs": [
    {
     "data": {
      "text/html": [
       "<style  type=\"text/css\" >\n",
       "#T_9f00a632_7660_11eb_b184_3c15c2df36d2row0_col0,#T_9f00a632_7660_11eb_b184_3c15c2df36d2row1_col1,#T_9f00a632_7660_11eb_b184_3c15c2df36d2row2_col2,#T_9f00a632_7660_11eb_b184_3c15c2df36d2row3_col3{\n",
       "            background-color:  #023858;\n",
       "            color:  #f1f1f1;\n",
       "        }#T_9f00a632_7660_11eb_b184_3c15c2df36d2row0_col1{\n",
       "            background-color:  #f0eaf4;\n",
       "            color:  #000000;\n",
       "        }#T_9f00a632_7660_11eb_b184_3c15c2df36d2row0_col2{\n",
       "            background-color:  #fbf3f9;\n",
       "            color:  #000000;\n",
       "        }#T_9f00a632_7660_11eb_b184_3c15c2df36d2row0_col3{\n",
       "            background-color:  #d1d2e6;\n",
       "            color:  #000000;\n",
       "        }#T_9f00a632_7660_11eb_b184_3c15c2df36d2row1_col0{\n",
       "            background-color:  #f5eef6;\n",
       "            color:  #000000;\n",
       "        }#T_9f00a632_7660_11eb_b184_3c15c2df36d2row1_col2,#T_9f00a632_7660_11eb_b184_3c15c2df36d2row2_col0,#T_9f00a632_7660_11eb_b184_3c15c2df36d2row2_col1,#T_9f00a632_7660_11eb_b184_3c15c2df36d2row2_col3{\n",
       "            background-color:  #fff7fb;\n",
       "            color:  #000000;\n",
       "        }#T_9f00a632_7660_11eb_b184_3c15c2df36d2row1_col3{\n",
       "            background-color:  #e9e5f1;\n",
       "            color:  #000000;\n",
       "        }#T_9f00a632_7660_11eb_b184_3c15c2df36d2row3_col0{\n",
       "            background-color:  #cacee5;\n",
       "            color:  #000000;\n",
       "        }#T_9f00a632_7660_11eb_b184_3c15c2df36d2row3_col1{\n",
       "            background-color:  #dedcec;\n",
       "            color:  #000000;\n",
       "        }#T_9f00a632_7660_11eb_b184_3c15c2df36d2row3_col2{\n",
       "            background-color:  #f7f0f7;\n",
       "            color:  #000000;\n",
       "        }</style><table id=\"T_9f00a632_7660_11eb_b184_3c15c2df36d2\" ><thead>    <tr>        <th class=\"blank level0\" ></th>        <th class=\"col_heading level0 col0\" >age</th>        <th class=\"col_heading level0 col1\" >bmi</th>        <th class=\"col_heading level0 col2\" >children</th>        <th class=\"col_heading level0 col3\" >charges</th>    </tr></thead><tbody>\n",
       "                <tr>\n",
       "                        <th id=\"T_9f00a632_7660_11eb_b184_3c15c2df36d2level0_row0\" class=\"row_heading level0 row0\" >age</th>\n",
       "                        <td id=\"T_9f00a632_7660_11eb_b184_3c15c2df36d2row0_col0\" class=\"data row0 col0\" >1.000000</td>\n",
       "                        <td id=\"T_9f00a632_7660_11eb_b184_3c15c2df36d2row0_col1\" class=\"data row0 col1\" >0.109272</td>\n",
       "                        <td id=\"T_9f00a632_7660_11eb_b184_3c15c2df36d2row0_col2\" class=\"data row0 col2\" >0.042469</td>\n",
       "                        <td id=\"T_9f00a632_7660_11eb_b184_3c15c2df36d2row0_col3\" class=\"data row0 col3\" >0.299008</td>\n",
       "            </tr>\n",
       "            <tr>\n",
       "                        <th id=\"T_9f00a632_7660_11eb_b184_3c15c2df36d2level0_row1\" class=\"row_heading level0 row1\" >bmi</th>\n",
       "                        <td id=\"T_9f00a632_7660_11eb_b184_3c15c2df36d2row1_col0\" class=\"data row1 col0\" >0.109272</td>\n",
       "                        <td id=\"T_9f00a632_7660_11eb_b184_3c15c2df36d2row1_col1\" class=\"data row1 col1\" >1.000000</td>\n",
       "                        <td id=\"T_9f00a632_7660_11eb_b184_3c15c2df36d2row1_col2\" class=\"data row1 col2\" >0.012759</td>\n",
       "                        <td id=\"T_9f00a632_7660_11eb_b184_3c15c2df36d2row1_col3\" class=\"data row1 col3\" >0.198341</td>\n",
       "            </tr>\n",
       "            <tr>\n",
       "                        <th id=\"T_9f00a632_7660_11eb_b184_3c15c2df36d2level0_row2\" class=\"row_heading level0 row2\" >children</th>\n",
       "                        <td id=\"T_9f00a632_7660_11eb_b184_3c15c2df36d2row2_col0\" class=\"data row2 col0\" >0.042469</td>\n",
       "                        <td id=\"T_9f00a632_7660_11eb_b184_3c15c2df36d2row2_col1\" class=\"data row2 col1\" >0.012759</td>\n",
       "                        <td id=\"T_9f00a632_7660_11eb_b184_3c15c2df36d2row2_col2\" class=\"data row2 col2\" >1.000000</td>\n",
       "                        <td id=\"T_9f00a632_7660_11eb_b184_3c15c2df36d2row2_col3\" class=\"data row2 col3\" >0.067998</td>\n",
       "            </tr>\n",
       "            <tr>\n",
       "                        <th id=\"T_9f00a632_7660_11eb_b184_3c15c2df36d2level0_row3\" class=\"row_heading level0 row3\" >charges</th>\n",
       "                        <td id=\"T_9f00a632_7660_11eb_b184_3c15c2df36d2row3_col0\" class=\"data row3 col0\" >0.299008</td>\n",
       "                        <td id=\"T_9f00a632_7660_11eb_b184_3c15c2df36d2row3_col1\" class=\"data row3 col1\" >0.198341</td>\n",
       "                        <td id=\"T_9f00a632_7660_11eb_b184_3c15c2df36d2row3_col2\" class=\"data row3 col2\" >0.067998</td>\n",
       "                        <td id=\"T_9f00a632_7660_11eb_b184_3c15c2df36d2row3_col3\" class=\"data row3 col3\" >1.000000</td>\n",
       "            </tr>\n",
       "    </tbody></table>"
      ],
      "text/plain": [
       "<pandas.io.formats.style.Styler at 0x12d786d60>"
      ]
     },
     "execution_count": 4,
     "metadata": {},
     "output_type": "execute_result"
    }
   ],
   "source": [
    "hcorr = df.corr()\n",
    "hcorr.style.background_gradient()"
   ]
  },
  {
   "cell_type": "markdown",
   "metadata": {},
   "source": [
    "### Q5. For all categorical features, use bar plot to visualize the number of users within each category."
   ]
  },
  {
   "cell_type": "code",
   "execution_count": 7,
   "metadata": {},
   "outputs": [
    {
     "data": {
      "text/plain": [
       "<AxesSubplot:>"
      ]
     },
     "execution_count": 7,
     "metadata": {},
     "output_type": "execute_result"
    },
    {
     "data": {
      "image/png": "[encoded data removed]",
      "text/plain": [
       "<Figure size 432x288 with 1 Axes>"
      ]
     },
     "metadata": {
      "needs_background": "light"
     },
     "output_type": "display_data"
    }
   ],
   "source": [
    "# your code\n",
    "df['sex'].value_counts().plot(kind='bar')"
   ]
  },
  {
   "cell_type": "code",
   "execution_count": 8,
   "metadata": {},
   "outputs": [
    {
     "data": {
      "text/plain": [
       "<AxesSubplot:>"
      ]
     },
     "execution_count": 8,
     "metadata": {},
     "output_type": "execute_result"
    },
    {
     "data": {
      "image/png": "[encoded data removed]",
      "text/plain": [
       "<Figure size 432x288 with 1 Axes>"
      ]
     },
     "metadata": {
      "needs_background": "light"
     },
     "output_type": "display_data"
    }
   ],
   "source": [
    "df['smoker'].value_counts().plot(kind='bar')"
   ]
  },
  {
   "cell_type": "code",
   "execution_count": 9,
   "metadata": {},
   "outputs": [
    {
     "data": {
      "text/plain": [
       "<AxesSubplot:>"
      ]
     },
     "execution_count": 9,
     "metadata": {},
     "output_type": "execute_result"
    },
    {
     "data": {
      "image/png": "[encoded data removed]",
      "text/plain": [
       "<Figure size 432x288 with 1 Axes>"
      ]
     },
     "metadata": {
      "needs_background": "light"
     },
     "output_type": "display_data"
    }
   ],
   "source": [
    "df['region'].value_counts().plot(kind='bar')"
   ]
  },
  {
   "cell_type": "markdown",
   "metadata": {},
   "source": [
    "### Q6. Convert all categorical features into numerical features with Label Encoding or One-Hot Encoding"
   ]
  },
  {
   "cell_type": "code",
   "execution_count": 10,
   "metadata": {},
   "outputs": [
    {
     "name": "stdout",
     "output_type": "stream",
     "text": [
      "   age  sex     bmi  children  smoker  region      charges\n",
      "0   19    0  27.900         0       1       3  16884.92400\n",
      "1   18    1  33.770         1       0       2   1725.55230\n",
      "2   28    1  33.000         3       0       2   4449.46200\n",
      "3   33    1  22.705         0       0       1  21984.47061\n",
      "4   32    1  28.880         0       0       1   3866.85520\n"
     ]
    }
   ],
   "source": [
    "labelencoder = LabelEncoder()\n",
    "df['sex'] = labelencoder.fit_transform(df['sex'])\n",
    "df['smoker'] = labelencoder.fit_transform(df['smoker'])\n",
    "df['region'] = labelencoder.fit_transform(df['region'])\n",
    "print(df.head(5))"
   ]
  },
  {
   "cell_type": "markdown",
   "metadata": {},
   "source": [
    "### Q7. Normalize all numerical features"
   ]
  },
  {
   "cell_type": "code",
   "execution_count": 12,
   "metadata": {},
   "outputs": [
    {
     "name": "stdout",
     "output_type": "stream",
     "text": [
      "           age  sex       bmi  children  smoker    region   charges\n",
      "0     0.021739  0.0  0.321227       0.0     1.0  1.000000  0.251611\n",
      "1     0.000000  1.0  0.479150       0.2     0.0  0.666667  0.009636\n",
      "2     0.217391  1.0  0.458434       0.6     0.0  0.666667  0.053115\n",
      "3     0.326087  1.0  0.181464       0.0     0.0  0.333333  0.333010\n",
      "4     0.304348  1.0  0.347592       0.0     0.0  0.333333  0.043816\n",
      "...        ...  ...       ...       ...     ...       ...       ...\n",
      "1333  0.695652  1.0  0.403820       0.6     0.0  0.333333  0.151299\n",
      "1334  0.000000  0.0  0.429379       0.0     0.0  0.000000  0.017305\n",
      "1335  0.000000  0.0  0.562012       0.0     0.0  0.666667  0.008108\n",
      "1336  0.065217  0.0  0.264730       0.0     0.0  1.000000  0.014144\n",
      "1337  0.934783  0.0  0.352704       0.0     1.0  0.333333  0.447249\n",
      "\n",
      "[1338 rows x 7 columns]\n"
     ]
    }
   ],
   "source": [
    "# X = df.loc[:, ['age','bmi','children', 'region', 'charges']]\n",
    "# print(X)\n",
    "x_min = df.min(axis=0)\n",
    "x_max = df.max(axis=0)\n",
    "X = (df-x_min)/(x_max-x_min)\n",
    "print(X)\n",
    "\n",
    "# additional method using sklearn\n",
    "from sklearn import preprocessing\n",
    "min_max_scaler = preprocessing.MinMaxScaler()\n",
    "x_scaled = min_max_scaler.fit_transform(X)"
   ]
  },
  {
   "cell_type": "markdown",
   "metadata": {},
   "source": [
    "### Q8. Save your preprocessed data into a csv file. Submit your code and the preprocessed data."
   ]
  },
  {
   "cell_type": "code",
   "execution_count": 13,
   "metadata": {},
   "outputs": [],
   "source": [
    "preprocessed_data = X\n",
    "preprocessed_data.to_csv('preprocessed_data.csv', index=False)"
   ]
  },
  {
   "cell_type": "code",
   "execution_count": null,
   "metadata": {},
   "outputs": [],
   "source": []
  }
 ],
 "metadata": {
  "kernelspec": {
   "display_name": "Python 3",
   "language": "python",
   "name": "python3"
  },
  "language_info": {
   "codemirror_mode": {
    "name": "ipython",
    "version": 3
   },
   "file_extension": ".py",
   "mimetype": "text/x-python",
   "name": "python",
   "nbconvert_exporter": "python",
   "pygments_lexer": "ipython3",
   "version": "3.9.0"
  }
 },
 "nbformat": 4,
 "nbformat_minor": 2
}
