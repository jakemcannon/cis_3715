{
 "cells": [
  {
   "cell_type": "markdown",
   "metadata": {},
   "source": [
    "# Lab 2: Vector and Matrix"
   ]
  },
  {
   "cell_type": "markdown",
   "metadata": {},
   "source": [
    "In this lab, we will learn how to use Python to operate vectors and matrices. "
   ]
  },
  {
   "cell_type": "markdown",
   "metadata": {},
   "source": [
    "## 1. Example"
   ]
  },
  {
   "cell_type": "markdown",
   "metadata": {},
   "source": [
    "### 1.1 Load data with pandas"
   ]
  },
  {
   "cell_type": "code",
   "execution_count": 1,
   "metadata": {},
   "outputs": [
    {
     "name": "stdout",
     "output_type": "stream",
     "text": [
      "<class 'numpy.ndarray'>\n",
      "(406, 7)\n",
      "[[18.0 8 307.0 ... 3504 12.0 70]\n",
      " [15.0 8 350.0 ... 3693 11.5 70]\n",
      " [18.0 8 318.0 ... 3436 11.0 70]\n",
      " ...\n",
      " [32.0 4 135.0 ... 2295 11.6 82]\n",
      " [28.0 4 120.0 ... 2625 18.6 82]\n",
      " [31.0 4 119.0 ... 2720 19.4 82]]\n"
     ]
    }
   ],
   "source": [
    "import numpy as np\n",
    "import pandas as pd\n",
    "\n",
    "# load data with pandas\n",
    "df = pd.read_csv('cars.csv')\n",
    "# print(df)\n",
    "\n",
    "# convert a pandas dataframe to a numpy array\n",
    "X = df.values[:, 1:-1]\n",
    "print(type(X))\n",
    "print(X.shape)\n",
    "print(X)"
   ]
  },
  {
   "cell_type": "markdown",
   "metadata": {},
   "source": [
    "### 1.2 Operation for vector"
   ]
  },
  {
   "cell_type": "code",
   "execution_count": 2,
   "metadata": {},
   "outputs": [
    {
     "name": "stdout",
     "output_type": "stream",
     "text": [
      "[18.0 8 307.0 130 3504 12.0 70]\n",
      "[28.0 4 120.0 79 2625 18.6 82]\n",
      "[46.0 12 427.0 209 6129 30.6 152]\n"
     ]
    }
   ],
   "source": [
    "#Get first row and the second to last row\n",
    "\n",
    "x1 = X[0, :]\n",
    "x2 = X[-2, :]\n",
    "\n",
    "print(x1)\n",
    "print(x2)\n",
    "\n",
    "# Addition\n",
    "\n",
    "y = x1 + x2\n",
    "print(y)"
   ]
  },
  {
   "cell_type": "markdown",
   "metadata": {},
   "source": [
    "### 1.3 Operation for matrix"
   ]
  },
  {
   "cell_type": "code",
   "execution_count": 32,
   "metadata": {},
   "outputs": [
    {
     "name": "stdout",
     "output_type": "stream",
     "text": [
      "[[18.0 8 307.0 130 3504 12.0 70]\n",
      " [15.0 8 350.0 165 3693 11.5 70]\n",
      " [18.0 8 318.0 150 3436 11.0 70]\n",
      " [16.0 8 304.0 150 3433 12.0 70]\n",
      " [17.0 8 302.0 140 3449 10.5 70]]\n",
      "[[27.0 4 140.0 86 2790 15.6 82]\n",
      " [44.0 4 97.0 52 2130 24.6 82]\n",
      " [32.0 4 135.0 84 2295 11.6 82]\n",
      " [28.0 4 120.0 79 2625 18.6 82]\n",
      " [31.0 4 119.0 82 2720 19.4 82]]\n",
      "[[-9.0 4 167.0 44 714 -3.5999999999999996 -12]\n",
      " [-29.0 4 253.0 113 1563 -13.100000000000001 -12]\n",
      " [-14.0 4 183.0 66 1141 -0.5999999999999996 -12]\n",
      " [-12.0 4 184.0 71 808 -6.600000000000001 -12]\n",
      " [-14.0 4 183.0 58 729 -8.899999999999999 -12]]\n"
     ]
    }
   ],
   "source": [
    "# Get first 5 rows and last 5 rows \n",
    "\n",
    "m1 = X[0:5, :]\n",
    "m2 = X[-5:, :]\n",
    "\n",
    "print(m1)\n",
    "print(m2)\n",
    "\n",
    "# Subtraction\n",
    "m = m1 - m2\n",
    "print(m)"
   ]
  },
  {
   "cell_type": "markdown",
   "metadata": {},
   "source": [
    "## 2 Task"
   ]
  },
  {
   "cell_type": "markdown",
   "metadata": {},
   "source": [
    "### 2.1 Get the first column and the second to last column from X"
   ]
  },
  {
   "cell_type": "code",
   "execution_count": 118,
   "metadata": {},
   "outputs": [
    {
     "name": "stdout",
     "output_type": "stream",
     "text": [
      "[[18.0]\n",
      " [15.0]\n",
      " [18.0]\n",
      " [16.0]\n",
      " [17.0]]\n",
      "[[70]\n",
      " [70]\n",
      " [70]\n",
      " [70]\n",
      " [70]]\n"
     ]
    }
   ],
   "source": [
    "# this is your code to get two vectors\n",
    "c1 = X[:,[0]]\n",
    "c2 = X[:,[-1]]\n",
    "print(c1[0:5])\n",
    "print(c2[0:5])"
   ]
  },
  {
   "cell_type": "markdown",
   "metadata": {},
   "source": [
    "### 2.2 Perform following operations on these two vectors and print the result"
   ]
  },
  {
   "cell_type": "code",
   "execution_count": 120,
   "metadata": {},
   "outputs": [
    {
     "name": "stdout",
     "output_type": "stream",
     "text": [
      "[[1260.0 1260.0 1260.0 ... 1476.0 1476.0 1476.0]\n",
      " [1050.0 1050.0 1050.0 ... 1230.0 1230.0 1230.0]\n",
      " [1260.0 1260.0 1260.0 ... 1476.0 1476.0 1476.0]\n",
      " ...\n",
      " [2240.0 2240.0 2240.0 ... 2624.0 2624.0 2624.0]\n",
      " [1960.0 1960.0 1960.0 ... 2296.0 2296.0 2296.0]\n",
      " [2170.0 2170.0 2170.0 ... 2542.0 2542.0 2542.0]]\n",
      "(406, 406)\n",
      "l1: 9358.800000000003\n",
      "l2: 9358.800000000003\n",
      "max_norm: 46.6\n",
      "distance: 21465.199999999993\n"
     ]
    }
   ],
   "source": [
    "# 1. addition and subtraction\n",
    "result_add = c1 + c2\n",
    "# print(result_add)\n",
    "\n",
    "# 2. element-wise multiplication\n",
    "result_elem_wise = np.multiply(c1, c2)\n",
    "# print(result_elem_wise)\n",
    "\n",
    "# 3. inner product\n",
    "result_inner = np.inner(c1, c2)\n",
    "print(result_inner)\n",
    "print(result_inner.shape)\n",
    "\n",
    "# 4. three norms\n",
    "l1 = np.linalg.norm(c1, ord=1)\n",
    "l2 = np.linalg.norm(c1, ord=1)\n",
    "max_norm = np.linalg.norm(c1 ,ord=np.inf)\n",
    "\n",
    "print(f\"l1: {l1}\")\n",
    "print(f\"l2: {l2}\")\n",
    "print(f\"max_norm: {max_norm}\")\n",
    "\n",
    "# 5. compute the distance between these two vectors\n",
    "distance = np.linalg.norm(c1-c2, ord=1)\n",
    "print(f\"distance: {distance}\")"
   ]
  },
  {
   "cell_type": "markdown",
   "metadata": {},
   "source": [
    "### 2.3 Get the first three columns and the last three columns from X"
   ]
  },
  {
   "cell_type": "code",
   "execution_count": 74,
   "metadata": {},
   "outputs": [
    {
     "name": "stdout",
     "output_type": "stream",
     "text": [
      "[[18.0 8 307.0 ... 3504 12.0 70]\n",
      " [15.0 8 350.0 ... 3693 11.5 70]\n",
      " [18.0 8 318.0 ... 3436 11.0 70]\n",
      " ...\n",
      " [32.0 4 135.0 ... 2295 11.6 82]\n",
      " [28.0 4 120.0 ... 2625 18.6 82]\n",
      " [31.0 4 119.0 ... 2720 19.4 82]]\n"
     ]
    }
   ],
   "source": [
    "# this is your code to get two matrices: A, B\n",
    "print(X)"
   ]
  },
  {
   "cell_type": "code",
   "execution_count": 94,
   "metadata": {},
   "outputs": [],
   "source": [
    "A = X[:,0:3]\n",
    "B = X[:,-3:]"
   ]
  },
  {
   "cell_type": "markdown",
   "metadata": {},
   "source": [
    "### 2.4 Perform following operations on these two matrices and print the result"
   ]
  },
  {
   "cell_type": "code",
   "execution_count": 117,
   "metadata": {},
   "outputs": [
    {
     "name": "stdout",
     "output_type": "stream",
     "text": [
      "[[3522.0 20.0 377.0]\n",
      " [3708.0 19.5 420.0]\n",
      " [3454.0 19.0 388.0]\n",
      " ...\n",
      " [2327.0 15.6 217.0]\n",
      " [2653.0 22.6 202.0]\n",
      " [2751.0 23.4 201.0]]\n",
      "C shape: (3, 406)\n",
      "result_product: [[25614040.900000002 7149030 269175402.0]\n",
      " [149295.04000000004 33484.69999999997 1160836.2999999998]\n",
      " [718009.0999999995 167835 5943079.0]]\n",
      "result_product shape: (3, 3)\n",
      "result_product2: [[25614040.900000002 149295.04000000004 718009.0999999995]\n",
      " [7149030 33484.69999999997 167835]\n",
      " [269175402.0 1160836.2999999998 5943079.0]]\n",
      "result_product2 shape: (3, 3)\n"
     ]
    }
   ],
   "source": [
    "# 1. addition and subtraction\n",
    "result_sum = A + B\n",
    "print(result_sum)\n",
    "\n",
    "# 2. compute the transpose of the second matrix: C = B^T, and print the shape of C\n",
    "C = np.transpose(B)\n",
    "print(f\"C shape: {C.shape}\")\n",
    "\n",
    "# 3. compute the product between A and C, and print the result and its shape\n",
    "result_product = np.matmul(C, A)\n",
    "print(f\"result_product: {result_product}\")\n",
    "print(f\"result_product shape: {result_product.shape}\")\n",
    "\n",
    "# 4. compute the transpose of the first matrix: D = A^T, and print the shape of D\n",
    "D = np.transpose(A)\n",
    "\n",
    "\n",
    "# 5. compute the product between D and B, and print the result and its shape\n",
    "result_product2 = np.matmul(D, B)\n",
    "print(f\"result_product2: {result_product2}\")\n",
    "print(f\"result_product2 shape: {result_product2.shape}\")"
   ]
  }
 ],
 "metadata": {
  "kernelspec": {
   "display_name": "Python 3",
   "language": "python",
   "name": "python3"
  },
  "language_info": {
   "codemirror_mode": {
    "name": "ipython",
    "version": 3
   },
   "file_extension": ".py",
   "mimetype": "text/x-python",
   "name": "python",
   "nbconvert_exporter": "python",
   "pygments_lexer": "ipython3",
   "version": "3.9.0"
  }
 },
 "nbformat": 4,
 "nbformat_minor": 2
}
